{
 "cells": [
  {
   "cell_type": "markdown",
   "id": "02bf7597-9841-4a60-a430-ba31829b26b6",
   "metadata": {},
   "source": [
    "#  Data Science Tools and Ecosystem"
   ]
  },
  {
   "cell_type": "markdown",
   "id": "ab450aa4-cbf3-4e59-86e7-fe4244939f6b",
   "metadata": {},
   "source": [
    "In this notebook, Data Science Tools and Ecosystem are summarized."
   ]
  },
  {
   "cell_type": "markdown",
   "id": "bc568175-3f95-4e6f-a8c6-e896603065d2",
   "metadata": {},
   "source": [
    "**Objectives:**\n",
    "- List popular languages used in Data Science\n",
    "- List some libraries used in Data science\n",
    "- Display some open source development environments\n",
    "- Demonstrate how python code can be used to evaluate arithmetic expressions\n"
   ]
  },
  {
   "cell_type": "markdown",
   "id": "ee163890-d936-49af-b141-91320eb82e8b",
   "metadata": {},
   "source": [
    "Some of the popular languages that Data Scientists use include:\n",
    "\n",
    "1. Julia \n",
    "1. Python\n",
    "1. Scala\n",
    "1. R\n",
    "1. Java \n"
   ]
  },
  {
   "cell_type": "markdown",
   "id": "38cb5dc3-f03f-485e-936e-ab0b7750fe56",
   "metadata": {},
   "source": [
    "Some of the commonly used libraries used by Data Scientists include:\n",
    "\n",
    "1. Pandas\n",
    "1. Matplotlib\n",
    "1. Seaborn\n",
    "2. Scikit-learn\n",
    "2. PyTorch"
   ]
  },
  {
   "cell_type": "markdown",
   "id": "8a94713d-cc0d-4594-bfb2-b00e9be4962b",
   "metadata": {},
   "source": [
    "| Data Science Tools | \n",
    "|--------------------|\n",
    "|Visual Studio Code|\n",
    "|IBM Watson Studio|\n",
    "|Eclipse|"
   ]
  },
  {
   "cell_type": "markdown",
   "id": "a0eeb2fe-f9c0-4591-ac80-425843da532a",
   "metadata": {},
   "source": [
    "### Below are a few examples of evaluating arithmetic expressions in Python"
   ]
  },
  {
   "cell_type": "code",
   "execution_count": 26,
   "id": "c6d6f9f2-0f23-4797-b686-6f5120a69b5e",
   "metadata": {},
   "outputs": [
    {
     "data": {
      "text/plain": [
       "17"
      ]
     },
     "execution_count": 26,
     "metadata": {},
     "output_type": "execute_result"
    }
   ],
   "source": [
    "# This is a simple arithmetic expression which multiplies then adds the integers\n",
    "\n",
    "(3*4)+5"
   ]
  },
  {
   "cell_type": "code",
   "execution_count": 28,
   "id": "2d882e9e-842b-4388-a5e5-48d7b6bf195b",
   "metadata": {},
   "outputs": [
    {
     "name": "stdout",
     "output_type": "stream",
     "text": [
      "3.3333333333333335 Hours\n"
     ]
    }
   ],
   "source": [
    "# This will convert 200 minutes to hours by diving by 60\n",
    "\n",
    "print (200/60, \"Hours\")"
   ]
  },
  {
   "cell_type": "markdown",
   "id": "764ddb9f-5e71-4adc-97d7-fd68c1c1071f",
   "metadata": {},
   "source": [
    "## Author\n",
    "Stephanie K. "
   ]
  }
 ],
 "metadata": {
  "kernelspec": {
   "display_name": "Python 3 (ipykernel)",
   "language": "python",
   "name": "python3"
  },
  "language_info": {
   "codemirror_mode": {
    "name": "ipython",
    "version": 3
   },
   "file_extension": ".py",
   "mimetype": "text/x-python",
   "name": "python",
   "nbconvert_exporter": "python",
   "pygments_lexer": "ipython3",
   "version": "3.12.4"
  }
 },
 "nbformat": 4,
 "nbformat_minor": 5
}
